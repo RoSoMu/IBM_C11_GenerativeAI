{
  "metadata": {
    "kernelspec": {
      "name": "python",
      "display_name": "Python (Pyodide)",
      "language": "python"
    },
    "language_info": {
      "codemirror_mode": {
        "name": "python",
        "version": 3
      },
      "file_extension": ".py",
      "mimetype": "text/x-python",
      "name": "python",
      "nbconvert_exporter": "python",
      "pygments_lexer": "ipython3",
      "version": "3.8"
    }
  },
  "nbformat_minor": 4,
  "nbformat": 4,
  "cells": [
    {
      "cell_type": "markdown",
      "source": "<p style=\"text-align:center\">\n    <a href=\"https://skills.network\" target=\"_blank\">\n    <img src=\"https://cf-courses-data.s3.us.cloud-object-storage.appdomain.cloud/assets/logos/SN_web_lightmode.png\" width=\"300\" alt=\"Skills Network Logo\">\n    </a>\n</p>\n",
      "metadata": {}
    },
    {
      "cell_type": "markdown",
      "source": "# Test Environment for Generative AI classroom labs\n\nThis lab provides a test environment for the codes generated using the Generative AI classroom.\n\nFollow the instructions below to set up this environment for further use.\n",
      "metadata": {}
    },
    {
      "cell_type": "markdown",
      "source": "# Setup\n",
      "metadata": {}
    },
    {
      "cell_type": "markdown",
      "source": "### Install required libraries\n\nIn case of a requirement of installing certain python libraries for use in your task, you may do so as shown below.\n",
      "metadata": {}
    },
    {
      "cell_type": "code",
      "source": "%pip install seaborn\nimport piplite\n\nawait piplite.install(['nbformat', 'plotly'])",
      "metadata": {
        "trusted": true
      },
      "outputs": [],
      "execution_count": 2
    },
    {
      "cell_type": "markdown",
      "source": "### Dataset URL from the GenAI lab\nUse the URL provided in the GenAI lab in the cell below. \n",
      "metadata": {}
    },
    {
      "cell_type": "code",
      "source": "URL = \"https://cf-courses-data.s3.us.cloud-object-storage.appdomain.cloud/IBMDeveloperSkillsNetwork-DA0101EN-Coursera/laptop_pricing_dataset_mod1.csv\"",
      "metadata": {
        "trusted": true
      },
      "outputs": [],
      "execution_count": 3
    },
    {
      "cell_type": "markdown",
      "source": "### Downloading the dataset\n\nExecute the following code to download the dataset in to the interface.\n\n> Please note that this step is essential in JupyterLite. If you are using a downloaded version of this notebook and running it on JupyterLabs, then you can skip this step and directly use the URL in pandas.read_csv() function to read the dataset as a dataframe\n",
      "metadata": {}
    },
    {
      "cell_type": "code",
      "source": "from pyodide.http import pyfetch\n\nasync def download(url, filename):\n    response = await pyfetch(url)\n    if response.status == 200:\n        with open(filename, \"wb\") as f:\n            f.write(await response.bytes())\n\npath = URL\n\nawait download(path, \"dataset.csv\")",
      "metadata": {
        "trusted": true
      },
      "outputs": [],
      "execution_count": 4
    },
    {
      "cell_type": "markdown",
      "source": "---\n",
      "metadata": {}
    },
    {
      "cell_type": "markdown",
      "source": "# Test Environment\n",
      "metadata": {}
    },
    {
      "cell_type": "code",
      "source": "### DATA PREPARATION LAB\n\n# Importing the dataset\n## PROMPT 1: Write a Python code that can perform the following tasks.\n# Read the CSV file, located on a given file path, into a Pandas data frame, \n#assuming that the first rows of the file are the headers for the data.\n\nimport pandas as pd\n# Read the CSV file into a Pandas data frame\ndf = pd.read_csv(\"dataset.csv\")\nprint(df.head())\n\n# Building the prompt: Handle missing data\n## PROMPT 2: Write a Python code that identifies the columns with missing values in a pandas data frame.\ndef find_missing_columns(df):\n    \"\"\"\n    This function identifies the columns in a DataFrame that contain any missing values.\n    \n    Parameters:\n    df (pandas.DataFrame): The DataFrame to check for missing values.\n    \n    Returns:\n    list: A list of column names with at least one missing value.\n    \"\"\"\n    try:\n        # Check for any NaN values in each column\n        missing_columns = df.columns[df.isnull().any()].tolist()\n        return missing_columns\n    except Exception as e:\n        return f\"An error occurred: {str(e)}\"\n    \nmissing_cols = find_missing_columns(df)\n    \nif missing_cols:\n    print(\"Columns with missing values:\")\n    for col in missing_cols:\n        print(col)\nelse:\n    print(\"No columns with missing values found.\")\n\n\n## PROMPT 3: Write a Python code to replace the missing values in a pandas data frame, per the following guidelines.\n#1. For a categorical attribute \"Screen_Size_cm\", replace the missing values with the most frequent value in the column.\n#2. For a continuous value attribute \"Weight_kg\", replace the missing values with the mean value of the entries in the column.\n\nimport numpy as np\n\ndef impute_missing_values(df):\n    \"\"\"\n    Imputes missing values in a DataFrame based on column data type.\n    \n    Columns 'Screen_Size_cm' are treated as categorical and imputed with the mode,\n    while 'Weight_kg' is treated as numerical and imputed with the mean.\n    \n    Parameters:\n    df (pd.DataFrame): Input DataFrame containing 'Screen_Size_cm' and 'Weight_kg' columns.\n    \n    Returns:\n    pd.DataFrame: DataFrame with missing values imputed.\n    \"\"\"\n    # Ensure target columns exist\n    if 'Screen_Size_cm' not in df.columns or 'Weight_kg' not in df.columns:\n        raise ValueError(\"DataFrame must contain 'Screen_Size_cm' and 'Weight_kg' columns.\")\n# Separate categorical and continuous columns\n    categorical_cols = df.select_dtypes(include=['object']).columns\n    numerical_cols = df.select_dtypes(include=['int64', 'float64']).columns\n    \n    # Impute 'Screen_Size_cm' with mode\n    if 'Screen_Size_cm' in categorical_cols:\n        mode_value = df['Screen_Size_cm'].mode()[0]\n        df['Screen_Size_cm'].fillna(mode_value, inplace=True)\n    \n    # Impute 'Weight_kg' with mean\n    if 'Weight_kg' in numerical_cols:\n        mean_value = df['Weight_kg'].mean()\n        df['Weight_kg'].fillna(mean_value, inplace=True)\n\n    return df\n\n# Apply given function:\nimputed_df = impute_missing_values(df)\nprint(imputed_df.head())\n\n#Building the prompt: Modify data type\n## PROMPT 4: Write a Python code snippet to change the data type of the attributes \"Screen_Size_cm\" and \"Weight_kg\" of a data frame to float.\ndef change_dtypes_to_float(df):\n    \"\"\"\n    Changes the data type of specified columns in a DataFrame to float.\n    \n    Parameters:\n    df (pd.DataFrame): Input DataFrame containing 'Screen_Size_cm' and 'Weight_kg' columns.\n    \n    Returns:\n    pd.DataFrame: DataFrame with specified columns converted to float.\n    \"\"\"\n    # Check and change the data types\n    target_columns = ['Screen_Size_cm', 'Weight_kg']\n    \n    for col in target_columns:\n        if col in df.columns:\n            df[col] = df[col].astype(float)\n    \n    return df\n\n# Apply change_dtypes_to_float function\nfloat_imputed_df = change_dtypes_to_float(imputed_df)\nprint(float_imputed_df.head())\n\n# Building the prompt: Standardization and Normalization\n## PROMPT 5: Write a Python code to modify the contents under the following attributes of the data frame as required.\n#1. Data under 'Screen_Size_cm' is assumed to be in centimeters. Convert this data into inches. Modify the name of the attribute to 'Screen_Size_inch'.\n#2. Data under 'Weight_kg' is assumed to be in kilograms. Convert this data into pounds. Modify the name of the attribute to 'Weight_pounds'.\n\ndef convert_units_and_rename(df):\n    \"\"\"\n    Converts units of 'Screen_Size_cm' to inches and 'Weight_kg' to pounds,\n    then renames the columns accordingly.\n    \n    Parameters:\n    df (pd.DataFrame): Input DataFrame with 'Screen_Size_cm' and 'Weight_kg' columns.\n    \n    Returns:\n    pd.DataFrame: DataFrame with converted data and renamed columns.\n    \"\"\"\n    # Define conversion factors\n    cm_to_inch = 0.393701\n    kg_to_pound = 2.20462\n    \n    # Perform conversions\n    df['Screen_Size_inch'] = df['Screen_Size_cm'].apply(lambda x: x * cm_to_inch if pd.notna(x) else x)\n    df['Weight_pounds'] = df['Weight_kg'].apply(lambda x: x * kg_to_pound if pd.notna(x) else x)\n    \n    # Drop old columns and rename new ones\n    df.drop(columns=['Screen_Size_cm', 'Weight_kg'], inplace=True)\n    \n    return df\n\n# Apply conver_units_and_rename function:\nnew_df = convert_units_and_rename(float_imputed_df)\nprint(new_df.head())\n\n## PROMPT 6: Write a Python code to normalize the content under the attribute \"CPU_frequency\" in a data frame df concerning its maximum value. \n# Make changes to the original data, and do not create a new attribute.\nimport numpy as np\n\ndef normalize_cpu_frequency(df):\n    \"\"\"\n    Normalizes the 'CPU_frequency' column in the DataFrame to have values between 0 and 1.\n    \n    Args:\n    df (pd.DataFrame): The input DataFrame containing 'CPU_frequency' column.\n    \n    Returns:\n    pd.DataFrame: DataFrame with 'CPU_frequency' normalized.\n    \"\"\"\n    # Ensure 'CPU_frequency' is present in the DataFrame\n    if 'CPU_frequency' not in df.columns:\n        raise ValueError(\"DataFrame must contain 'CPU_frequency' column.\")\n\n    # Find the maximum value in 'CPU_frequency'\n    max_value = df['CPU_frequency'].max()\n    \n    # Handle the case where max_value is zero to avoid division by zero\n    if max_value == 0:\n        df['CPU_frequency'] = 0\n    else:\n        df['CPU_frequency'] = df['CPU_frequency'].apply(lambda x: x / max_value)\n    \n    return df\n\n# Apply normalize_cpu_frequency function:\nmax_normalized_df = normalize_cpu_frequency(new_df)\nprint(max_normalized_df.head())\n    \n# Building the prompt: Categorical to Numerical\n## PROMPT 7: Write a Python code to perform the following tasks.\n# 1. Convert a data frame df attribute \"Screen\", into indicator variables, saved as df1, with the naming convention \"Screen_<unique value of the attribute>\".\n# 2. Append df1 into the original data frame df.\n# 3. Drop the original attribute from the data frame df.\n\ndef convert_and_append_indicator_vars(df):\n    \"\"\"\n    Converts 'Screen' column in DataFrame df into indicator (dummy) variables, appends them back to df,\n    and removes the original 'Screen' column.\n    \n    Args:\n    df (pd.DataFrame): The input DataFrame containing 'Screen' column.\n    \n    Returns:\n    pd.DataFrame: DataFrame with 'Screen' column converted to indicator variables and appended.\n    \"\"\"\n    # Ensure 'Screen' column exists in the DataFrame\n    if 'Screen' not in df.columns:\n         raise ValueError(\"'Screen' column must be present in the DataFrame.\")\n    \n    # Convert 'Screen' column to indicator variables\n    df1 = pd.get_dummies(df, columns=['Screen'], prefix='Screen')\n    \n    # Append df1 to df\n    df = pd.concat([df, df1], axis=1)\n    \n    # Drop the original 'Screen' column\n    df.drop(columns=['Screen'], inplace=True)\n     \n    return df\n\n# Apply convert_and_append_indicator_vars function:\ncat_to_num_df = convert_and_append_indicator_vars(max_normalized_df)\nprint(cat_to_num_df.head())\n\n# Practice Problems\n## PROMPT 8: Create a prompt to generate a Python code that converts the values under Price from USD to Euros\ndef convert_price_to_eur(df, conversion_rate):\n    \"\"\"\n    Converts 'Price' column from USD to EUR in the DataFrame.\n    \n    Args:\n    df (pd.DataFrame): The input DataFrame containing 'Price' column in USD.\n    conversion_rate (float): Conversion rate from USD to EUR (e.g., 0.85 for 1 EUR = 0.85 USD).\n    \n    Returns:\n    pd.DataFrame: DataFrame with 'Price' converted to EUR.\n    \"\"\"\n    if 'Price' not in df.columns:\n        raise ValueError(\"DataFrame must contain 'Price' column.\")\n    \n    # Convert 'Price' to EUR\n    df['Price'] *= conversion_rate\n    \n    return df\n\n# Apply convert_price_to_eur function:\nconversion_rate = 0.85\ndf_euros = convert_price_to_eur(cat_to_num_df, conversion_rate)\nprint(df_euros.head())\n\n## PROMPT 9: Modify the normalization prompt to perform min-max normalization on the CPU_frequency parameter.\ndef min_max_normalize_cpu_frequency(df):\n    \"\"\"\n    Performs min-max normalization on the 'CPU_frequency' column of a DataFrame.\n    \n    Args:\n    df (pd.DataFrame): The input DataFrame containing 'CPU_frequency' column.\n    \n    Returns:\n    pd.DataFrame: DataFrame with 'CPU_frequency' normalized using min-max normalization.\n    \"\"\"\n    # Ensure 'CPU_frequency' column exists in the DataFrame\n    if 'CPU_frequency' not in df.columns:\n        raise ValueError(\"DataFrame must contain 'CPU_frequency' column.\")\n\n    # Find min and max values for normalization\n    min_value = df['CPU_frequency'].min()\n    max_value = df['CPU_frequency'].max()\n    \n    # Apply min-max normalization directly on 'CPU_frequency' column\n    df['CPU_frequency'] = (df['CPU_frequency'] - min_value) / (max_value - min_value)\n\n    return df\n# Apply convert_price_to_eur function:\nmin_max_normalized_df = min_max_normalize_cpu_frequency(df_euros)\nmin_max_normalized_df.head()\n",
      "metadata": {
        "trusted": true
      },
      "outputs": [
        {
          "name": "stderr",
          "text": "<ipython-input-5-72b0f53f5ea7>:8: DeprecationWarning: \nPyarrow will become a required dependency of pandas in the next major release of pandas (pandas 3.0),\n(to allow more performant data types, such as the Arrow string type, and better interoperability with other libraries)\nbut was not found to be installed on your system.\nIf this would cause problems for you,\nplease provide us feedback at https://github.com/pandas-dev/pandas/issues/54466\n        \n  import pandas as pd\n",
          "output_type": "stream"
        },
        {
          "name": "stdout",
          "text": "   Unnamed: 0 Manufacturer  Category     Screen  GPU  OS  CPU_core  \\\n0           0         Acer         4  IPS Panel    2   1         5   \n1           1         Dell         3    Full HD    1   1         3   \n2           2         Dell         3    Full HD    1   1         7   \n3           3         Dell         4  IPS Panel    2   1         5   \n4           4           HP         4    Full HD    2   1         7   \n\n   Screen_Size_cm  CPU_frequency  RAM_GB  Storage_GB_SSD  Weight_kg  Price  \n0          35.560            1.6       8             256       1.60    978  \n1          39.624            2.0       4             256       2.20    634  \n2          39.624            2.7       8             256       2.20    946  \n3          33.782            1.6       8             128       1.22   1244  \n4          39.624            1.8       8             256       1.91    837  \nColumns with missing values:\nScreen_Size_cm\nWeight_kg\n",
          "output_type": "stream"
        },
        {
          "name": "stderr",
          "text": "<ipython-input-5-72b0f53f5ea7>:76: FutureWarning: A value is trying to be set on a copy of a DataFrame or Series through chained assignment using an inplace method.\nThe behavior will change in pandas 3.0. This inplace method will never work because the intermediate object on which we are setting values always behaves as a copy.\n\nFor example, when doing 'df[col].method(value, inplace=True)', try using 'df.method({col: value}, inplace=True)' or df[col] = df[col].method(value) instead, to perform the operation inplace on the original object.\n\n\n  df['Weight_kg'].fillna(mean_value, inplace=True)\n",
          "output_type": "stream"
        },
        {
          "name": "stdout",
          "text": "   Unnamed: 0 Manufacturer  Category     Screen  GPU  OS  CPU_core  \\\n0           0         Acer         4  IPS Panel    2   1         5   \n1           1         Dell         3    Full HD    1   1         3   \n2           2         Dell         3    Full HD    1   1         7   \n3           3         Dell         4  IPS Panel    2   1         5   \n4           4           HP         4    Full HD    2   1         7   \n\n   Screen_Size_cm  CPU_frequency  RAM_GB  Storage_GB_SSD  Weight_kg  Price  \n0          35.560            1.6       8             256       1.60    978  \n1          39.624            2.0       4             256       2.20    634  \n2          39.624            2.7       8             256       2.20    946  \n3          33.782            1.6       8             128       1.22   1244  \n4          39.624            1.8       8             256       1.91    837  \n   Unnamed: 0 Manufacturer  Category     Screen  GPU  OS  CPU_core  \\\n0           0         Acer         4  IPS Panel    2   1         5   \n1           1         Dell         3    Full HD    1   1         3   \n2           2         Dell         3    Full HD    1   1         7   \n3           3         Dell         4  IPS Panel    2   1         5   \n4           4           HP         4    Full HD    2   1         7   \n\n   Screen_Size_cm  CPU_frequency  RAM_GB  Storage_GB_SSD  Weight_kg  Price  \n0          35.560            1.6       8             256       1.60    978  \n1          39.624            2.0       4             256       2.20    634  \n2          39.624            2.7       8             256       2.20    946  \n3          33.782            1.6       8             128       1.22   1244  \n4          39.624            1.8       8             256       1.91    837  \n   Unnamed: 0 Manufacturer  Category     Screen  GPU  OS  CPU_core  \\\n0           0         Acer         4  IPS Panel    2   1         5   \n1           1         Dell         3    Full HD    1   1         3   \n2           2         Dell         3    Full HD    1   1         7   \n3           3         Dell         4  IPS Panel    2   1         5   \n4           4           HP         4    Full HD    2   1         7   \n\n   CPU_frequency  RAM_GB  Storage_GB_SSD  Price  Screen_Size_inch  \\\n0            1.6       8             256    978         14.000008   \n1            2.0       4             256    634         15.600008   \n2            2.7       8             256    946         15.600008   \n3            1.6       8             128   1244         13.300007   \n4            1.8       8             256    837         15.600008   \n\n   Weight_pounds  \n0       3.527392  \n1       4.850164  \n2       4.850164  \n3       2.689636  \n4       4.210824  \n   Unnamed: 0 Manufacturer  Category     Screen  GPU  OS  CPU_core  \\\n0           0         Acer         4  IPS Panel    2   1         5   \n1           1         Dell         3    Full HD    1   1         3   \n2           2         Dell         3    Full HD    1   1         7   \n3           3         Dell         4  IPS Panel    2   1         5   \n4           4           HP         4    Full HD    2   1         7   \n\n   CPU_frequency  RAM_GB  Storage_GB_SSD  Price  Screen_Size_inch  \\\n0       0.551724       8             256    978         14.000008   \n1       0.689655       4             256    634         15.600008   \n2       0.931034       8             256    946         15.600008   \n3       0.551724       8             128   1244         13.300007   \n4       0.620690       8             256    837         15.600008   \n\n   Weight_pounds  \n0       3.527392  \n1       4.850164  \n2       4.850164  \n3       2.689636  \n4       4.210824  \n   Unnamed: 0 Manufacturer  Category  GPU  OS  CPU_core  CPU_frequency RAM_GB  \\\n0           0         Acer         4    2   1         5       0.551724      8   \n1           1         Dell         3    1   1         3       0.689655      4   \n2           2         Dell         3    1   1         7       0.931034      8   \n3           3         Dell         4    2   1         5       0.551724      8   \n4           4           HP         4    2   1         7       0.620690      8   \n\n   Storage_GB_SSD  Price  ...  OS  CPU_core  CPU_frequency RAM_GB  \\\n0             256    978  ...   1         5       0.551724      8   \n1             256    634  ...   1         3       0.689655      4   \n2             256    946  ...   1         7       0.931034      8   \n3             128   1244  ...   1         5       0.551724      8   \n4             256    837  ...   1         7       0.620690      8   \n\n   Storage_GB_SSD  Price  Screen_Size_inch  Weight_pounds  Screen_Full HD  \\\n0             256    978         14.000008       3.527392           False   \n1             256    634         15.600008       4.850164            True   \n2             256    946         15.600008       4.850164            True   \n3             128   1244         13.300007       2.689636           False   \n4             256    837         15.600008       4.210824            True   \n\n   Screen_IPS Panel  \n0              True  \n1             False  \n2             False  \n3              True  \n4             False  \n\n[5 rows x 26 columns]\n   Unnamed: 0 Manufacturer  Category  GPU  OS  CPU_core  CPU_frequency RAM_GB  \\\n0           0         Acer         4    2   1         5       0.551724      8   \n1           1         Dell         3    1   1         3       0.689655      4   \n2           2         Dell         3    1   1         7       0.931034      8   \n3           3         Dell         4    2   1         5       0.551724      8   \n4           4           HP         4    2   1         7       0.620690      8   \n\n   Storage_GB_SSD    Price  ...  OS  CPU_core  CPU_frequency RAM_GB  \\\n0             256   831.30  ...   1         5       0.551724      8   \n1             256   538.90  ...   1         3       0.689655      4   \n2             256   804.10  ...   1         7       0.931034      8   \n3             128  1057.40  ...   1         5       0.551724      8   \n4             256   711.45  ...   1         7       0.620690      8   \n\n   Storage_GB_SSD    Price  Screen_Size_inch  Weight_pounds  Screen_Full HD  \\\n0             256   831.30         14.000008       3.527392           False   \n1             256   538.90         15.600008       4.850164            True   \n2             256   804.10         15.600008       4.850164            True   \n3             128  1057.40         13.300007       2.689636           False   \n4             256   711.45         15.600008       4.210824            True   \n\n   Screen_IPS Panel  \n0              True  \n1             False  \n2             False  \n3              True  \n4             False  \n\n[5 rows x 26 columns]\n",
          "output_type": "stream"
        },
        {
          "execution_count": 5,
          "output_type": "execute_result",
          "data": {
            "text/plain": "   Unnamed: 0 Manufacturer  Category  GPU  OS  CPU_core  CPU_frequency RAM_GB  \\\n0           0         Acer         4    2   1         5       0.235294      8   \n1           1         Dell         3    1   1         3       0.470588      4   \n2           2         Dell         3    1   1         7       0.882353      8   \n3           3         Dell         4    2   1         5       0.235294      8   \n4           4           HP         4    2   1         7       0.352941      8   \n\n   Storage_GB_SSD    Price  ...  OS  CPU_core  CPU_frequency RAM_GB  \\\n0             256   831.30  ...   1         5       0.235294      8   \n1             256   538.90  ...   1         3       0.470588      4   \n2             256   804.10  ...   1         7       0.882353      8   \n3             128  1057.40  ...   1         5       0.235294      8   \n4             256   711.45  ...   1         7       0.352941      8   \n\n   Storage_GB_SSD    Price  Screen_Size_inch  Weight_pounds  Screen_Full HD  \\\n0             256   831.30         14.000008       3.527392           False   \n1             256   538.90         15.600008       4.850164            True   \n2             256   804.10         15.600008       4.850164            True   \n3             128  1057.40         13.300007       2.689636           False   \n4             256   711.45         15.600008       4.210824            True   \n\n   Screen_IPS Panel  \n0              True  \n1             False  \n2             False  \n3              True  \n4             False  \n\n[5 rows x 26 columns]",
            "text/html": "<div>\n<style scoped>\n    .dataframe tbody tr th:only-of-type {\n        vertical-align: middle;\n    }\n\n    .dataframe tbody tr th {\n        vertical-align: top;\n    }\n\n    .dataframe thead th {\n        text-align: right;\n    }\n</style>\n<table border=\"1\" class=\"dataframe\">\n  <thead>\n    <tr style=\"text-align: right;\">\n      <th></th>\n      <th>Unnamed: 0</th>\n      <th>Manufacturer</th>\n      <th>Category</th>\n      <th>GPU</th>\n      <th>OS</th>\n      <th>CPU_core</th>\n      <th>CPU_frequency</th>\n      <th>RAM_GB</th>\n      <th>Storage_GB_SSD</th>\n      <th>Price</th>\n      <th>...</th>\n      <th>OS</th>\n      <th>CPU_core</th>\n      <th>CPU_frequency</th>\n      <th>RAM_GB</th>\n      <th>Storage_GB_SSD</th>\n      <th>Price</th>\n      <th>Screen_Size_inch</th>\n      <th>Weight_pounds</th>\n      <th>Screen_Full HD</th>\n      <th>Screen_IPS Panel</th>\n    </tr>\n  </thead>\n  <tbody>\n    <tr>\n      <th>0</th>\n      <td>0</td>\n      <td>Acer</td>\n      <td>4</td>\n      <td>2</td>\n      <td>1</td>\n      <td>5</td>\n      <td>0.235294</td>\n      <td>8</td>\n      <td>256</td>\n      <td>831.30</td>\n      <td>...</td>\n      <td>1</td>\n      <td>5</td>\n      <td>0.235294</td>\n      <td>8</td>\n      <td>256</td>\n      <td>831.30</td>\n      <td>14.000008</td>\n      <td>3.527392</td>\n      <td>False</td>\n      <td>True</td>\n    </tr>\n    <tr>\n      <th>1</th>\n      <td>1</td>\n      <td>Dell</td>\n      <td>3</td>\n      <td>1</td>\n      <td>1</td>\n      <td>3</td>\n      <td>0.470588</td>\n      <td>4</td>\n      <td>256</td>\n      <td>538.90</td>\n      <td>...</td>\n      <td>1</td>\n      <td>3</td>\n      <td>0.470588</td>\n      <td>4</td>\n      <td>256</td>\n      <td>538.90</td>\n      <td>15.600008</td>\n      <td>4.850164</td>\n      <td>True</td>\n      <td>False</td>\n    </tr>\n    <tr>\n      <th>2</th>\n      <td>2</td>\n      <td>Dell</td>\n      <td>3</td>\n      <td>1</td>\n      <td>1</td>\n      <td>7</td>\n      <td>0.882353</td>\n      <td>8</td>\n      <td>256</td>\n      <td>804.10</td>\n      <td>...</td>\n      <td>1</td>\n      <td>7</td>\n      <td>0.882353</td>\n      <td>8</td>\n      <td>256</td>\n      <td>804.10</td>\n      <td>15.600008</td>\n      <td>4.850164</td>\n      <td>True</td>\n      <td>False</td>\n    </tr>\n    <tr>\n      <th>3</th>\n      <td>3</td>\n      <td>Dell</td>\n      <td>4</td>\n      <td>2</td>\n      <td>1</td>\n      <td>5</td>\n      <td>0.235294</td>\n      <td>8</td>\n      <td>128</td>\n      <td>1057.40</td>\n      <td>...</td>\n      <td>1</td>\n      <td>5</td>\n      <td>0.235294</td>\n      <td>8</td>\n      <td>128</td>\n      <td>1057.40</td>\n      <td>13.300007</td>\n      <td>2.689636</td>\n      <td>False</td>\n      <td>True</td>\n    </tr>\n    <tr>\n      <th>4</th>\n      <td>4</td>\n      <td>HP</td>\n      <td>4</td>\n      <td>2</td>\n      <td>1</td>\n      <td>7</td>\n      <td>0.352941</td>\n      <td>8</td>\n      <td>256</td>\n      <td>711.45</td>\n      <td>...</td>\n      <td>1</td>\n      <td>7</td>\n      <td>0.352941</td>\n      <td>8</td>\n      <td>256</td>\n      <td>711.45</td>\n      <td>15.600008</td>\n      <td>4.210824</td>\n      <td>True</td>\n      <td>False</td>\n    </tr>\n  </tbody>\n</table>\n<p>5 rows × 26 columns</p>\n</div>"
          },
          "metadata": {}
        }
      ],
      "execution_count": 5
    },
    {
      "cell_type": "markdown",
      "source": "## Authors\n",
      "metadata": {}
    },
    {
      "cell_type": "markdown",
      "source": "[Abhishek Gagneja](https://www.linkedin.com/in/abhishek-gagneja-23051987/)\n",
      "metadata": {}
    },
    {
      "cell_type": "markdown",
      "source": "## Change Log\n",
      "metadata": {}
    },
    {
      "cell_type": "markdown",
      "source": "|Date (YYYY-MM-DD)|Version|Changed By|Change Description|\n|-|-|-|-|\n|2023-12-10|0.1|Abhishek Gagneja|Initial Draft created|\n",
      "metadata": {}
    },
    {
      "cell_type": "markdown",
      "source": "Copyright © 2023 IBM Corporation. All rights reserved.\n",
      "metadata": {}
    }
  ]
}